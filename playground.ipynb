{
 "cells": [
  {
   "cell_type": "code",
   "execution_count": 185,
   "metadata": {
    "scrolled": true
   },
   "outputs": [],
   "source": [
    "import numpy as np\n",
    "from numpy.random import randint\n",
    "\n",
    "\n",
    "class Tensor(object):\n",
    "    \"\"\"Docstring for Tensor. \"\"\"\n",
    "\n",
    "    def __init__(self, data, label=\"\", roots=None, how=None):\n",
    "        # what would happen if you removed None?\n",
    "        self.data = np.array(data)\n",
    "        self.label = label\n",
    "        self.roots = []\n",
    "        \n",
    "        # Each op/Tensor would have his own backward call.\n",
    "        self.pass_the_grad = lambda : None \n",
    "\n",
    "        # Gradients >> Now everyone can get it...\n",
    "        self.grad = np.ones(self.data.shape)\n",
    "        \n",
    "\n",
    "    def __repr__(self):\n",
    "        return str(self.data.__repr__())\n",
    "    \n",
    "    def __str__(self):\n",
    "        return str(self.data.__str__())\n",
    "\n",
    "    # Ops:\n",
    "    def __add__(self, other):\n",
    "        output = Tensor(self.data + other.data, label=self.label+\"+\"+other.label)\n",
    "        output.roots = [self, other] \n",
    "        output.how = \"+\"\n",
    "        \n",
    "        def pass_the_gradient():\n",
    "            \"\"\"this function does:\n",
    "            > Updates the gradients of the parents/roots.\n",
    "            \"\"\"\n",
    "            if len(self.data.shape) == 1:\n",
    "                self.grad = np.sum(output.grad, axis=0)\n",
    "            else:\n",
    "                self.grad = output.grad\n",
    "\n",
    "            if len(self.data.shape) == 1:\n",
    "                other.grad= np.sum(output.grad, axis=0)\n",
    "            else:\n",
    "                other.grad =  output.grad\n",
    "\n",
    "        output.pass_the_grad = pass_the_gradient\n",
    "\n",
    "        return  output \n",
    "\n",
    "    def __mul__(self, other):\n",
    "        output = Tensor(self.data * other.data, label=self.label+\"*\"+other.label)\n",
    "        output.roots = [self, other]\n",
    "        output.how = \"*\"\n",
    "        \n",
    "        def pass_the_gradient():\n",
    "            \"\"\"this function does:\n",
    "            > Updates the gradients of the parents/roots.\n",
    "            \"\"\"\n",
    "            self.grad  = output.grad\n",
    "            other.grad = output.grad\n",
    "\n",
    "        output.pass_the_grad = pass_the_gradient\n",
    "        return  output \n",
    "    \n",
    "    def __matmul__(self, other):\n",
    "        output = Tensor(self.data @ other.data, label=self.label+\"@\"+other.label)\n",
    "        output.roots = [self, other]\n",
    "        output.how = \"@\"\n",
    "\n",
    "        def pass_the_gradient():\n",
    "            \"\"\"this function does:\n",
    "            > Updates the gradients of the parents/roots.\n",
    "            \"\"\"\n",
    "            self.grad  = output.grad @ other.data.T\n",
    "            other.grad = self.data.T @ output.grad \n",
    "        output.pass_the_grad = pass_the_gradient\n",
    "        \n",
    "        return  output \n",
    "\n",
    "    def sigmoid(self):\n",
    "        output = Tensor(1/(1+np.exp(-self.data)))\n",
    "        output.roots = [self] \n",
    "        output.how = \"σ\"\n",
    "\n",
    "        def pass_the_gradient():\n",
    "            \"\"\"this function does:\n",
    "            > Updates the gradients of the parents/roots.\n",
    "            \"\"\"\n",
    "            self.grad = output.data*(1-output.data)\n",
    "        output.pass_the_grad = pass_the_gradient\n",
    "\n",
    "        return output \n",
    "    \n",
    "    def computation_g(self):\n",
    "        # I love this function for real.\n",
    "        roots  =  self.roots\n",
    "        if len(roots)>0:\n",
    "            ver, op = self.label, self.how\n",
    "            yield (ver, op, [[r.label for r in roots]])\n",
    "            for r in roots:\n",
    "                yield from r.computation_graph()\n",
    "                \n",
    "    def computation_graph(self):\n",
    "        v = self.computation_g()\n",
    "        L = []\n",
    "        for i in v:\n",
    "            L.append(i)\n",
    "        return L\n",
    "        \n",
    "        \n",
    "\n",
    "X = Tensor(randint(10, size=(5,3)), label=\"X\")\n",
    "W1 = Tensor(randint(5, size=(3, 6)), label=\"W1\")\n",
    "b1 =  Tensor(np.ones((6,)), label=\"b1\")\n",
    "\n",
    "Z1 = X@W1\n",
    "Z2 = Z1 + b1\n",
    "\n",
    "L = Z2.sigmoid(); L.label = \"L\""
   ]
  },
  {
   "cell_type": "code",
   "execution_count": 189,
   "metadata": {},
   "outputs": [
    {
     "data": {
      "text/plain": [
       "[('L', 'σ', [['X@W1+b1']]),\n",
       " ('X@W1+b1', '+', [['X@W1', 'b1']]),\n",
       " ('X@W1', '@', [['X', 'W1']])]"
      ]
     },
     "execution_count": 189,
     "metadata": {},
     "output_type": "execute_result"
    }
   ],
   "source": [
    "k = L.computation_graph()\n",
    "k"
   ]
  },
  {
   "cell_type": "code",
   "execution_count": 191,
   "metadata": {},
   "outputs": [
    {
     "name": "stdout",
     "output_type": "stream",
     "text": [
      "L -> σ\n",
      "X@W1+b1 -> +\n",
      "X@W1 -> @\n"
     ]
    }
   ],
   "source": [
    "for i in k:\n",
    "    print(f\"{i[0]} -> {i[1]}\")"
   ]
  },
  {
   "cell_type": "code",
   "execution_count": null,
   "metadata": {},
   "outputs": [],
   "source": []
  },
  {
   "cell_type": "code",
   "execution_count": null,
   "metadata": {},
   "outputs": [],
   "source": [
    "\"\"\"\n",
    "print(f\"X\\n {X}\")\n",
    "print(f\"W1\\n {W1}\")\n",
    "print(f\"b1\\n {b1}\")\n",
    "print(f\"Z1\\n {Z1}\")\n",
    "print(f\"Z2\\n {Z2}\")\n",
    "print(f\"L\\n {L}\")\n",
    "\n",
    "l = [L, Z2, Z1, W1, b1]\n",
    "\n",
    "print(type(L))\n",
    "for i in l:\n",
    "    print(f\"Roots of {i.label}\")\n",
    "    print(f\"{[r.label  for r in i.roots ]}\")\n",
    "\"\"\""
   ]
  },
  {
   "cell_type": "code",
   "execution_count": 123,
   "metadata": {},
   "outputs": [],
   "source": [
    "L.pass_the_grad()\n",
    "Z2.pass_the_grad()\n",
    "Z1.pass_the_grad()\n",
    "W1.pass_the_grad()\n",
    "b1.pass_the_grad()"
   ]
  },
  {
   "cell_type": "markdown",
   "metadata": {},
   "source": [
    "Z1 = X@W1"
   ]
  },
  {
   "cell_type": "code",
   "execution_count": 23,
   "metadata": {},
   "outputs": [
    {
     "data": {
      "text/plain": [
       "(array([[ 7., 15., 12.],\n",
       "        [ 7., 15., 12.],\n",
       "        [ 7., 15., 12.],\n",
       "        [ 7., 15., 12.],\n",
       "        [ 7., 15., 12.]]), array([[29., 29., 29., 29., 29., 29.],\n",
       "        [19., 19., 19., 19., 19., 19.],\n",
       "        [19., 19., 19., 19., 19., 19.]]))"
      ]
     },
     "execution_count": 23,
     "metadata": {},
     "output_type": "execute_result"
    }
   ],
   "source": [
    "X.grad, W1.grad"
   ]
  },
  {
   "cell_type": "code",
   "execution_count": 13,
   "metadata": {},
   "outputs": [],
   "source": [
    "X = Tensor(randint(4,size=(3,2)))\n",
    "Y = Tensor(randint(4,size=(3,2)))\n",
    "\n",
    "Z = X+Y"
   ]
  },
  {
   "cell_type": "code",
   "execution_count": 15,
   "metadata": {
    "collapsed": true
   },
   "outputs": [
    {
     "ename": "TypeError",
     "evalue": "pass_the_gradient() missing 2 required positional arguments: 'self' and 'other'",
     "output_type": "error",
     "traceback": [
      "\u001b[0;31m---------------------------------------------------------------------------\u001b[0m",
      "\u001b[0;31mTypeError\u001b[0m                                 Traceback (most recent call last)",
      "\u001b[0;32m<ipython-input-15-bf82ea66afc1>\u001b[0m in \u001b[0;36m<module>\u001b[0;34m\u001b[0m\n\u001b[0;32m----> 1\u001b[0;31m \u001b[0mZ\u001b[0m\u001b[0;34m.\u001b[0m\u001b[0mpass_the_grad\u001b[0m\u001b[0;34m(\u001b[0m\u001b[0;34m)\u001b[0m\u001b[0;34m\u001b[0m\u001b[0;34m\u001b[0m\u001b[0m\n\u001b[0m",
      "\u001b[0;31mTypeError\u001b[0m: pass_the_gradient() missing 2 required positional arguments: 'self' and 'other'"
     ]
    }
   ],
   "source": [
    "Z.pass_the_grad()"
   ]
  },
  {
   "cell_type": "code",
   "execution_count": null,
   "metadata": {},
   "outputs": [
    {
     "name": "stdout",
     "output_type": "stream",
     "text": [
      "Collecting package metadata (repodata.json): done\n",
      "Solving environment: \\ \n",
      "The environment is inconsistent, please check the package plan carefully\n",
      "The following packages are causing the inconsistency:\n",
      "\n",
      "  - defaults/linux-64::anaconda==2019.03=py37_0\n",
      "  - defaults/linux-64::numba==0.43.1=py37h962f231_0\n",
      "\\ "
     ]
    }
   ],
   "source": [
    "!conda install -c conda-forge pygraphviz"
   ]
  },
  {
   "cell_type": "code",
   "execution_count": 60,
   "metadata": {},
   "outputs": [],
   "source": [
    "def g():\n",
    "    yield(\"ff\")\n",
    "    yield(\"gg\")"
   ]
  },
  {
   "cell_type": "code",
   "execution_count": 61,
   "metadata": {},
   "outputs": [],
   "source": [
    "l = g()"
   ]
  },
  {
   "cell_type": "code",
   "execution_count": 62,
   "metadata": {},
   "outputs": [
    {
     "data": {
      "text/plain": [
       "generator"
      ]
     },
     "execution_count": 62,
     "metadata": {},
     "output_type": "execute_result"
    }
   ],
   "source": [
    "type(l)"
   ]
  },
  {
   "cell_type": "code",
   "execution_count": 64,
   "metadata": {},
   "outputs": [
    {
     "name": "stdout",
     "output_type": "stream",
     "text": [
      "<generator object g at 0x7f4aac915e58>\n"
     ]
    }
   ],
   "source": [
    "print(l)"
   ]
  },
  {
   "cell_type": "code",
   "execution_count": null,
   "metadata": {},
   "outputs": [],
   "source": [
    "l"
   ]
  }
 ],
 "metadata": {
  "kernelspec": {
   "display_name": "Python 3",
   "language": "python",
   "name": "python3"
  },
  "language_info": {
   "codemirror_mode": {
    "name": "ipython",
    "version": 3
   },
   "file_extension": ".py",
   "mimetype": "text/x-python",
   "name": "python",
   "nbconvert_exporter": "python",
   "pygments_lexer": "ipython3",
   "version": "3.7.3"
  }
 },
 "nbformat": 4,
 "nbformat_minor": 2
}
